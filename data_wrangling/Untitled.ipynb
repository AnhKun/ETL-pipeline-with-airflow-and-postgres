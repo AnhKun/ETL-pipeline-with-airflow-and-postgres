{
 "cells": [
  {
   "cell_type": "code",
   "execution_count": 1,
   "id": "c894288f",
   "metadata": {},
   "outputs": [],
   "source": [
    "import pandas as pd \n",
    "import numpy as np\n",
    "from datetime import datetime"
   ]
  },
  {
   "cell_type": "code",
   "execution_count": 2,
   "id": "5f4efa84",
   "metadata": {},
   "outputs": [],
   "source": [
    "data = pd.read_csv('../data/jantojun2020.csv', low_memory=False)\n"
   ]
  },
  {
   "cell_type": "code",
   "execution_count": 3,
   "id": "26c854a5",
   "metadata": {},
   "outputs": [
    {
     "data": {
      "text/html": [
       "<div>\n",
       "<style scoped>\n",
       "    .dataframe tbody tr th:only-of-type {\n",
       "        vertical-align: middle;\n",
       "    }\n",
       "\n",
       "    .dataframe tbody tr th {\n",
       "        vertical-align: top;\n",
       "    }\n",
       "\n",
       "    .dataframe thead th {\n",
       "        text-align: right;\n",
       "    }\n",
       "</style>\n",
       "<table border=\"1\" class=\"dataframe\">\n",
       "  <thead>\n",
       "    <tr style=\"text-align: right;\">\n",
       "      <th></th>\n",
       "      <th>year</th>\n",
       "      <th>quarter</th>\n",
       "      <th>month</th>\n",
       "      <th>day_of_month</th>\n",
       "      <th>day_of_week</th>\n",
       "      <th>fl_date</th>\n",
       "      <th>mkt_unique_carrier</th>\n",
       "      <th>mkt_carrier_fl_num</th>\n",
       "      <th>tail_num</th>\n",
       "      <th>origin</th>\n",
       "      <th>...</th>\n",
       "      <th>crs_elapsed_time</th>\n",
       "      <th>actual_elapsed_time</th>\n",
       "      <th>air_time</th>\n",
       "      <th>distance</th>\n",
       "      <th>distance_group</th>\n",
       "      <th>carrier_delay</th>\n",
       "      <th>weather_delay</th>\n",
       "      <th>nas_delay</th>\n",
       "      <th>security_delay</th>\n",
       "      <th>late_aircraft_delay</th>\n",
       "    </tr>\n",
       "  </thead>\n",
       "  <tbody>\n",
       "    <tr>\n",
       "      <th>0</th>\n",
       "      <td>2020</td>\n",
       "      <td>1</td>\n",
       "      <td>1</td>\n",
       "      <td>1</td>\n",
       "      <td>3</td>\n",
       "      <td>1/1/2020</td>\n",
       "      <td>WN</td>\n",
       "      <td>5888</td>\n",
       "      <td>N951WN</td>\n",
       "      <td>ONT</td>\n",
       "      <td>...</td>\n",
       "      <td>95.0</td>\n",
       "      <td>122.0</td>\n",
       "      <td>74.0</td>\n",
       "      <td>363</td>\n",
       "      <td>2</td>\n",
       "      <td>8.0</td>\n",
       "      <td>0.0</td>\n",
       "      <td>27.0</td>\n",
       "      <td>0.0</td>\n",
       "      <td>33.0</td>\n",
       "    </tr>\n",
       "    <tr>\n",
       "      <th>1</th>\n",
       "      <td>2020</td>\n",
       "      <td>1</td>\n",
       "      <td>1</td>\n",
       "      <td>1</td>\n",
       "      <td>3</td>\n",
       "      <td>1/1/2020</td>\n",
       "      <td>WN</td>\n",
       "      <td>6276</td>\n",
       "      <td>N467WN</td>\n",
       "      <td>ONT</td>\n",
       "      <td>...</td>\n",
       "      <td>90.0</td>\n",
       "      <td>92.0</td>\n",
       "      <td>71.0</td>\n",
       "      <td>363</td>\n",
       "      <td>2</td>\n",
       "      <td>NaN</td>\n",
       "      <td>NaN</td>\n",
       "      <td>NaN</td>\n",
       "      <td>NaN</td>\n",
       "      <td>NaN</td>\n",
       "    </tr>\n",
       "    <tr>\n",
       "      <th>2</th>\n",
       "      <td>2020</td>\n",
       "      <td>1</td>\n",
       "      <td>1</td>\n",
       "      <td>1</td>\n",
       "      <td>3</td>\n",
       "      <td>1/1/2020</td>\n",
       "      <td>WN</td>\n",
       "      <td>4598</td>\n",
       "      <td>N7885A</td>\n",
       "      <td>ONT</td>\n",
       "      <td>...</td>\n",
       "      <td>70.0</td>\n",
       "      <td>68.0</td>\n",
       "      <td>57.0</td>\n",
       "      <td>333</td>\n",
       "      <td>2</td>\n",
       "      <td>NaN</td>\n",
       "      <td>NaN</td>\n",
       "      <td>NaN</td>\n",
       "      <td>NaN</td>\n",
       "      <td>NaN</td>\n",
       "    </tr>\n",
       "    <tr>\n",
       "      <th>3</th>\n",
       "      <td>2020</td>\n",
       "      <td>1</td>\n",
       "      <td>1</td>\n",
       "      <td>1</td>\n",
       "      <td>3</td>\n",
       "      <td>1/1/2020</td>\n",
       "      <td>WN</td>\n",
       "      <td>4761</td>\n",
       "      <td>N551WN</td>\n",
       "      <td>ONT</td>\n",
       "      <td>...</td>\n",
       "      <td>75.0</td>\n",
       "      <td>75.0</td>\n",
       "      <td>63.0</td>\n",
       "      <td>333</td>\n",
       "      <td>2</td>\n",
       "      <td>NaN</td>\n",
       "      <td>NaN</td>\n",
       "      <td>NaN</td>\n",
       "      <td>NaN</td>\n",
       "      <td>NaN</td>\n",
       "    </tr>\n",
       "    <tr>\n",
       "      <th>4</th>\n",
       "      <td>2020</td>\n",
       "      <td>1</td>\n",
       "      <td>1</td>\n",
       "      <td>1</td>\n",
       "      <td>3</td>\n",
       "      <td>1/1/2020</td>\n",
       "      <td>WN</td>\n",
       "      <td>5162</td>\n",
       "      <td>N968WN</td>\n",
       "      <td>ONT</td>\n",
       "      <td>...</td>\n",
       "      <td>80.0</td>\n",
       "      <td>67.0</td>\n",
       "      <td>57.0</td>\n",
       "      <td>333</td>\n",
       "      <td>2</td>\n",
       "      <td>NaN</td>\n",
       "      <td>NaN</td>\n",
       "      <td>NaN</td>\n",
       "      <td>NaN</td>\n",
       "      <td>NaN</td>\n",
       "    </tr>\n",
       "  </tbody>\n",
       "</table>\n",
       "<p>5 rows × 47 columns</p>\n",
       "</div>"
      ],
      "text/plain": [
       "   year  quarter  month  day_of_month  day_of_week   fl_date  \\\n",
       "0  2020        1      1             1            3  1/1/2020   \n",
       "1  2020        1      1             1            3  1/1/2020   \n",
       "2  2020        1      1             1            3  1/1/2020   \n",
       "3  2020        1      1             1            3  1/1/2020   \n",
       "4  2020        1      1             1            3  1/1/2020   \n",
       "\n",
       "  mkt_unique_carrier  mkt_carrier_fl_num tail_num origin  ...  \\\n",
       "0                 WN                5888   N951WN    ONT  ...   \n",
       "1                 WN                6276   N467WN    ONT  ...   \n",
       "2                 WN                4598   N7885A    ONT  ...   \n",
       "3                 WN                4761   N551WN    ONT  ...   \n",
       "4                 WN                5162   N968WN    ONT  ...   \n",
       "\n",
       "  crs_elapsed_time actual_elapsed_time air_time distance distance_group  \\\n",
       "0             95.0               122.0     74.0      363              2   \n",
       "1             90.0                92.0     71.0      363              2   \n",
       "2             70.0                68.0     57.0      333              2   \n",
       "3             75.0                75.0     63.0      333              2   \n",
       "4             80.0                67.0     57.0      333              2   \n",
       "\n",
       "  carrier_delay weather_delay  nas_delay  security_delay  late_aircraft_delay  \n",
       "0           8.0           0.0       27.0             0.0                 33.0  \n",
       "1           NaN           NaN        NaN             NaN                  NaN  \n",
       "2           NaN           NaN        NaN             NaN                  NaN  \n",
       "3           NaN           NaN        NaN             NaN                  NaN  \n",
       "4           NaN           NaN        NaN             NaN                  NaN  \n",
       "\n",
       "[5 rows x 47 columns]"
      ]
     },
     "execution_count": 3,
     "metadata": {},
     "output_type": "execute_result"
    }
   ],
   "source": [
    "data.head()"
   ]
  },
  {
   "cell_type": "code",
   "execution_count": 4,
   "id": "571e1c3a",
   "metadata": {},
   "outputs": [],
   "source": [
    "data = data[['fl_date', 'mkt_unique_carrier', 'mkt_carrier_fl_num', 'tail_num', 'origin', 'dest',\\\n",
    "            'crs_dep_time', 'dep_time', 'dep_delay_group', 'crs_arr_time', 'arr_time', 'arr_delay_group',\\\n",
    "            'distance_group', 'cancellation_code']]\n",
    "data['fl_date'] = pd.to_datetime(data['fl_date'])\n",
    "data['cancellation_code'].fillna('O', inplace=True)"
   ]
  },
  {
   "cell_type": "code",
   "execution_count": 5,
   "id": "9978151a",
   "metadata": {},
   "outputs": [
    {
     "data": {
      "text/plain": [
       "1142199"
      ]
     },
     "execution_count": 5,
     "metadata": {},
     "output_type": "execute_result"
    }
   ],
   "source": [
    "data['dep_time'].isnull().count()"
   ]
  },
  {
   "cell_type": "code",
   "execution_count": 6,
   "id": "d88cbd2f",
   "metadata": {},
   "outputs": [],
   "source": [
    "data['dep_time'].fillna('NA', inplace=True)"
   ]
  },
  {
   "cell_type": "code",
   "execution_count": 7,
   "id": "14f787d3",
   "metadata": {},
   "outputs": [
    {
     "data": {
      "text/plain": [
       "1142199"
      ]
     },
     "execution_count": 7,
     "metadata": {},
     "output_type": "execute_result"
    }
   ],
   "source": [
    "data['dep_time'].isna().count()"
   ]
  },
  {
   "cell_type": "code",
   "execution_count": 8,
   "id": "fa3e6e19",
   "metadata": {},
   "outputs": [
    {
     "data": {
      "text/plain": [
       "fl_date               1142199\n",
       "mkt_unique_carrier    1142199\n",
       "mkt_carrier_fl_num    1142199\n",
       "tail_num              1142199\n",
       "origin                1142199\n",
       "dest                  1142199\n",
       "crs_dep_time          1142199\n",
       "dep_time              1142199\n",
       "dep_delay_group       1142199\n",
       "crs_arr_time          1142199\n",
       "arr_time              1142199\n",
       "arr_delay_group       1142199\n",
       "distance_group        1142199\n",
       "cancellation_code     1142199\n",
       "dtype: int64"
      ]
     },
     "execution_count": 8,
     "metadata": {},
     "output_type": "execute_result"
    }
   ],
   "source": [
    "data.isnull().count()"
   ]
  },
  {
   "cell_type": "code",
   "execution_count": 9,
   "id": "0aeb235b",
   "metadata": {},
   "outputs": [
    {
     "name": "stdout",
     "output_type": "stream",
     "text": [
      "<class 'pandas.core.frame.DataFrame'>\n",
      "RangeIndex: 1142199 entries, 0 to 1142198\n",
      "Data columns (total 14 columns):\n",
      " #   Column              Non-Null Count    Dtype         \n",
      "---  ------              --------------    -----         \n",
      " 0   fl_date             1142199 non-null  datetime64[ns]\n",
      " 1   mkt_unique_carrier  1142199 non-null  object        \n",
      " 2   mkt_carrier_fl_num  1142199 non-null  int64         \n",
      " 3   tail_num            1140102 non-null  object        \n",
      " 4   origin              1142199 non-null  object        \n",
      " 5   dest                1142199 non-null  object        \n",
      " 6   crs_dep_time        1142199 non-null  int64         \n",
      " 7   dep_time            1142199 non-null  object        \n",
      " 8   dep_delay_group     1129469 non-null  float64       \n",
      " 9   crs_arr_time        1142199 non-null  int64         \n",
      " 10  arr_time            1128649 non-null  float64       \n",
      " 11  arr_delay_group     1126760 non-null  float64       \n",
      " 12  distance_group      1142199 non-null  int64         \n",
      " 13  cancellation_code   1142199 non-null  object        \n",
      "dtypes: datetime64[ns](1), float64(3), int64(4), object(6)\n",
      "memory usage: 122.0+ MB\n"
     ]
    }
   ],
   "source": [
    "data.info()"
   ]
  },
  {
   "cell_type": "code",
   "execution_count": null,
   "id": "af2a3ccf",
   "metadata": {},
   "outputs": [],
   "source": []
  }
 ],
 "metadata": {
  "kernelspec": {
   "display_name": "Python 3 (ipykernel)",
   "language": "python",
   "name": "python3"
  },
  "language_info": {
   "codemirror_mode": {
    "name": "ipython",
    "version": 3
   },
   "file_extension": ".py",
   "mimetype": "text/x-python",
   "name": "python",
   "nbconvert_exporter": "python",
   "pygments_lexer": "ipython3",
   "version": "3.8.8"
  }
 },
 "nbformat": 4,
 "nbformat_minor": 5
}
